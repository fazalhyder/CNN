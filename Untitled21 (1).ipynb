{
  "nbformat": 4,
  "nbformat_minor": 5,
  "metadata": {
    "kernelspec": {
      "display_name": "Python 3",
      "language": "python",
      "name": "python3"
    },
    "language_info": {
      "codemirror_mode": {
        "name": "ipython",
        "version": 3
      },
      "file_extension": ".py",
      "mimetype": "text/x-python",
      "name": "python",
      "nbconvert_exporter": "python",
      "pygments_lexer": "ipython3",
      "version": "3.7.6"
    },
    "colab": {
      "name": "Untitled21.ipynb",
      "provenance": []
    },
    "accelerator": "GPU"
  },
  "cells": [
    {
      "cell_type": "code",
      "metadata": {
        "id": "b7e62ae9"
      },
      "source": [
        "from keras.datasets import cifar10\n",
        "\n",
        "import matplotlib.pyplot as plt\n",
        "from keras import models,layers\n",
        "from tensorflow.keras.utils import to_categorical\n",
        "from keras import optimizers"
      ],
      "id": "b7e62ae9",
      "execution_count": 1,
      "outputs": []
    },
    {
      "cell_type": "code",
      "metadata": {
        "colab": {
          "base_uri": "https://localhost:8080/",
          "height": 0
        },
        "id": "fb8ba611",
        "outputId": "fab9a339-8052-4915-8cc3-5e3ddab12122"
      },
      "source": [
        "(xtrain, ytrain), (xtest, ytest) = cifar10.load_data()\n",
        "print(xtrain.shape)\n",
        "print(xtest.shape)\n",
        "print(ytrain.shape)\n",
        "print(ytest.shape)"
      ],
      "id": "fb8ba611",
      "execution_count": 2,
      "outputs": [
        {
          "output_type": "stream",
          "text": [
            "Downloading data from https://www.cs.toronto.edu/~kriz/cifar-10-python.tar.gz\n",
            "170500096/170498071 [==============================] - 4s 0us/step\n",
            "170508288/170498071 [==============================] - 4s 0us/step\n",
            "(50000, 32, 32, 3)\n",
            "(10000, 32, 32, 3)\n",
            "(50000, 1)\n",
            "(10000, 1)\n"
          ],
          "name": "stdout"
        }
      ]
    },
    {
      "cell_type": "code",
      "metadata": {
        "colab": {
          "base_uri": "https://localhost:8080/",
          "height": 0
        },
        "id": "1ff850d3",
        "outputId": "7eb90bee-d35f-4f6b-bfb0-a36dc013543a"
      },
      "source": [
        "(xtrain, ytrain), (xtest, ytest) = cifar10.load_data()\n",
        "print(xtrain.shape)\n",
        "print(xtest.shape)\n",
        "print(ytrain.shape)\n",
        "print(ytest.shape)"
      ],
      "id": "1ff850d3",
      "execution_count": 3,
      "outputs": [
        {
          "output_type": "stream",
          "text": [
            "(50000, 32, 32, 3)\n",
            "(10000, 32, 32, 3)\n",
            "(50000, 1)\n",
            "(10000, 1)\n"
          ],
          "name": "stdout"
        }
      ]
    },
    {
      "cell_type": "code",
      "metadata": {
        "id": "5203745e"
      },
      "source": [
        "# convert the pixel values in float\n",
        "xtrain = xtrain.astype('float32')\n",
        "xtest = xtest.astype('float32')\n",
        "# scale the images\n",
        "xtrain /= 255  # ths is eqvalent to xtrain = xtrain/255 \n",
        "xtest /= 255\n",
        "ytrain = to_categorical(ytrain)\n",
        "ytest = to_categorical(ytest)"
      ],
      "id": "5203745e",
      "execution_count": 4,
      "outputs": []
    },
    {
      "cell_type": "code",
      "metadata": {
        "id": "55843f85"
      },
      "source": [
        "labels=['airplane', 'automobile','bird', 'cat', 'deer', 'dog', 'frog', 'horse', 'ship', 'truck']"
      ],
      "id": "55843f85",
      "execution_count": 5,
      "outputs": []
    },
    {
      "cell_type": "code",
      "metadata": {
        "colab": {
          "base_uri": "https://localhost:8080/",
          "height": 283
        },
        "id": "dd4bf63a",
        "outputId": "21cf2341-335a-4094-a7ae-d2227fd30364"
      },
      "source": [
        "print(ytrain[10211])\n",
        "plt.imshow(xtrain[10211])\n",
        "plt.show()"
      ],
      "id": "dd4bf63a",
      "execution_count": 6,
      "outputs": [
        {
          "output_type": "stream",
          "text": [
            "[0. 0. 0. 0. 0. 0. 1. 0. 0. 0.]\n"
          ],
          "name": "stdout"
        },
        {
          "output_type": "display_data",
          "data": {
            "image/png": "[encoded data removed]",
            "text/plain": [
              "<Figure size 432x288 with 1 Axes>"
            ]
          },
          "metadata": {
            "tags": [],
            "needs_background": "light"
          }
        }
      ]
    },
    {
      "cell_type": "code",
      "metadata": {
        "id": "2cd3dd05"
      },
      "source": [
        "from datetime import datetime\n",
        "def timer(start_time=None):\n",
        "    if not start_time:\n",
        "        print(datetime.now())\n",
        "        start_time = datetime.now()\n",
        "        return start_time\n",
        "    elif start_time:\n",
        "        thour, temp_sec = divmod((datetime.now() - start_time).total_seconds(), 3600)\n",
        "        tmin, tsec = divmod(temp_sec, 60)\n",
        "        print('Time taken: %i hours %i minutes and %s seconds.' % (thour, tmin, round(tsec, 2)))"
      ],
      "id": "2cd3dd05",
      "execution_count": 7,
      "outputs": []
    },
    {
      "cell_type": "markdown",
      "metadata": {
        "id": "5f0098a8"
      },
      "source": [
        "# Model Layers"
      ],
      "id": "5f0098a8"
    },
    {
      "cell_type": "code",
      "metadata": {
        "id": "2ede7002"
      },
      "source": [
        "model = models.Sequential()\n",
        "\n",
        "model.add(layers.Conv2D(32, (3, 3), padding='same', activation='relu', input_shape=(32,32,3)))\n",
        "model.add(layers.Conv2D(32,(3,3), padding='same',activation='relu'))\n",
        "model.add(layers.MaxPooling2D(pool_size=2)) \n",
        "model.add(layers.Dropout(0.2))\n",
        "\n",
        "model.add(layers.Conv2D(64,(3,3), padding='same',activation='relu'))\n",
        "model.add(layers.Conv2D(128,(3,3), padding='same',activation='relu'))\n",
        "model.add(layers.MaxPooling2D(pool_size=2)) \n",
        "model.add(layers.Dropout(0.2))\n",
        "\n",
        "model.add(layers.Conv2D(64,(3,3), padding='same',activation='relu'))\n",
        "model.add(layers.Conv2D(64,(3,3), padding='same',activation='relu'))\n",
        "model.add(layers.MaxPooling2D(pool_size=2)) \n",
        "model.add(layers.Dropout(0.2))\n",
        "\n",
        "#Classification layers\n",
        "model.add(layers.Flatten())\n",
        "model.add(layers.Dense(512,activation='relu'))\n",
        "model.add(layers.Dropout(0.2))\n",
        "model.add(layers.Dense(64,activation='relu'))\n",
        "model.add(layers.Dropout(0.2))\n",
        "model.add(layers.Dense(10,activation='softmax'))  # this is the actual output layer\n",
        "\n",
        "# initiate Adam optimizer\n",
        "opt = optimizers.Adam(learning_rate=1e-4, decay=1e-6)\n",
        "\n",
        "# Let's train the model \n",
        "model.compile(loss='categorical_crossentropy',\n",
        "              optimizer=opt,\n",
        "              metrics=['accuracy'])"
      ],
      "id": "2ede7002",
      "execution_count": 8,
      "outputs": []
    },
    {
      "cell_type": "code",
      "metadata": {
        "colab": {
          "base_uri": "https://localhost:8080/",
          "height": 0
        },
        "id": "0d67b5b1",
        "outputId": "aa172595-5f27-42e2-c8d8-87c1a71e4d61"
      },
      "source": [
        "start_time=timer(None)\n",
        "result = model.fit(\n",
        "    xtrain,\n",
        "    ytrain,\n",
        "    validation_split=0.1,    \n",
        "    verbose=True,\n",
        "    epochs=125,\n",
        "    steps_per_epoch= 64,\n",
        "    batch_size=512\n",
        "    )\n",
        "timer(start_time)"
      ],
      "id": "0d67b5b1",
      "execution_count": 9,
      "outputs": [
        {
          "output_type": "stream",
          "text": [
            "2021-08-03 17:07:42.409163\n",
            "Epoch 1/125\n",
            "64/64 [==============================] - 49s 67ms/step - loss: 2.2931 - accuracy: 0.1134 - val_loss: 2.1835 - val_accuracy: 0.1796\n",
            "Epoch 2/125\n",
            "64/64 [==============================] - 4s 62ms/step - loss: 2.1360 - accuracy: 0.2058 - val_loss: 1.9245 - val_accuracy: 0.3020\n",
            "Epoch 3/125\n",
            "64/64 [==============================] - 3s 47ms/step - loss: 1.9124 - accuracy: 0.2994 - val_loss: 1.7667 - val_accuracy: 0.3506\n",
            "Epoch 4/125\n",
            "64/64 [==============================] - 3s 48ms/step - loss: 1.8035 - accuracy: 0.3436 - val_loss: 1.6701 - val_accuracy: 0.3910\n",
            "Epoch 5/125\n",
            "64/64 [==============================] - 3s 48ms/step - loss: 1.7444 - accuracy: 0.3582 - val_loss: 1.6448 - val_accuracy: 0.4018\n",
            "Epoch 6/125\n",
            "64/64 [==============================] - 3s 48ms/step - loss: 1.6725 - accuracy: 0.3907 - val_loss: 1.5826 - val_accuracy: 0.4232\n",
            "Epoch 7/125\n",
            "64/64 [==============================] - 3s 48ms/step - loss: 1.6510 - accuracy: 0.3925 - val_loss: 1.5391 - val_accuracy: 0.4386\n",
            "Epoch 8/125\n",
            "64/64 [==============================] - 3s 48ms/step - loss: 1.6132 - accuracy: 0.4064 - val_loss: 1.5168 - val_accuracy: 0.4502\n",
            "Epoch 9/125\n",
            "64/64 [==============================] - 3s 48ms/step - loss: 1.5779 - accuracy: 0.4240 - val_loss: 1.4734 - val_accuracy: 0.4614\n",
            "Epoch 10/125\n",
            "64/64 [==============================] - 3s 48ms/step - loss: 1.5430 - accuracy: 0.4408 - val_loss: 1.4466 - val_accuracy: 0.4762\n",
            "Epoch 11/125\n",
            "64/64 [==============================] - 3s 48ms/step - loss: 1.5138 - accuracy: 0.4481 - val_loss: 1.4130 - val_accuracy: 0.4896\n",
            "Epoch 12/125\n",
            "64/64 [==============================] - 3s 48ms/step - loss: 1.5038 - accuracy: 0.4524 - val_loss: 1.4417 - val_accuracy: 0.4740\n",
            "Epoch 13/125\n",
            "64/64 [==============================] - 3s 48ms/step - loss: 1.4749 - accuracy: 0.4675 - val_loss: 1.3624 - val_accuracy: 0.5098\n",
            "Epoch 14/125\n",
            "64/64 [==============================] - 3s 48ms/step - loss: 1.4441 - accuracy: 0.4746 - val_loss: 1.3799 - val_accuracy: 0.4988\n",
            "Epoch 15/125\n",
            "64/64 [==============================] - 3s 49ms/step - loss: 1.4259 - accuracy: 0.4831 - val_loss: 1.3268 - val_accuracy: 0.5214\n",
            "Epoch 16/125\n",
            "64/64 [==============================] - 3s 49ms/step - loss: 1.4045 - accuracy: 0.4929 - val_loss: 1.3121 - val_accuracy: 0.5184\n",
            "Epoch 17/125\n",
            "64/64 [==============================] - 3s 49ms/step - loss: 1.3966 - accuracy: 0.4929 - val_loss: 1.2873 - val_accuracy: 0.5304\n",
            "Epoch 18/125\n",
            "64/64 [==============================] - 3s 49ms/step - loss: 1.3634 - accuracy: 0.5086 - val_loss: 1.2673 - val_accuracy: 0.5364\n",
            "Epoch 19/125\n",
            "64/64 [==============================] - 3s 49ms/step - loss: 1.3498 - accuracy: 0.5124 - val_loss: 1.2554 - val_accuracy: 0.5418\n",
            "Epoch 20/125\n",
            "64/64 [==============================] - 3s 49ms/step - loss: 1.3317 - accuracy: 0.5192 - val_loss: 1.2424 - val_accuracy: 0.5512\n",
            "Epoch 21/125\n",
            "64/64 [==============================] - 3s 49ms/step - loss: 1.3127 - accuracy: 0.5316 - val_loss: 1.2076 - val_accuracy: 0.5660\n",
            "Epoch 22/125\n",
            "64/64 [==============================] - 3s 49ms/step - loss: 1.3167 - accuracy: 0.5282 - val_loss: 1.2156 - val_accuracy: 0.5652\n",
            "Epoch 23/125\n",
            "64/64 [==============================] - 3s 49ms/step - loss: 1.2823 - accuracy: 0.5396 - val_loss: 1.1786 - val_accuracy: 0.5730\n",
            "Epoch 24/125\n",
            "64/64 [==============================] - 3s 49ms/step - loss: 1.2763 - accuracy: 0.5473 - val_loss: 1.1795 - val_accuracy: 0.5700\n",
            "Epoch 25/125\n",
            "64/64 [==============================] - 3s 49ms/step - loss: 1.2653 - accuracy: 0.5523 - val_loss: 1.1694 - val_accuracy: 0.5732\n",
            "Epoch 26/125\n",
            "64/64 [==============================] - 3s 49ms/step - loss: 1.2480 - accuracy: 0.5555 - val_loss: 1.1385 - val_accuracy: 0.5884\n",
            "Epoch 27/125\n",
            "64/64 [==============================] - 3s 49ms/step - loss: 1.2281 - accuracy: 0.5611 - val_loss: 1.1258 - val_accuracy: 0.5966\n",
            "Epoch 28/125\n",
            "64/64 [==============================] - 3s 49ms/step - loss: 1.2107 - accuracy: 0.5723 - val_loss: 1.1122 - val_accuracy: 0.6064\n",
            "Epoch 29/125\n",
            "64/64 [==============================] - 3s 49ms/step - loss: 1.1969 - accuracy: 0.5776 - val_loss: 1.1257 - val_accuracy: 0.6028\n",
            "Epoch 30/125\n",
            "64/64 [==============================] - 3s 49ms/step - loss: 1.1914 - accuracy: 0.5764 - val_loss: 1.1001 - val_accuracy: 0.6064\n",
            "Epoch 31/125\n",
            "64/64 [==============================] - 3s 49ms/step - loss: 1.1612 - accuracy: 0.5833 - val_loss: 1.0790 - val_accuracy: 0.6194\n",
            "Epoch 32/125\n",
            "64/64 [==============================] - 3s 49ms/step - loss: 1.1693 - accuracy: 0.5851 - val_loss: 1.0676 - val_accuracy: 0.6260\n",
            "Epoch 33/125\n",
            "64/64 [==============================] - 3s 49ms/step - loss: 1.1523 - accuracy: 0.5944 - val_loss: 1.0531 - val_accuracy: 0.6280\n",
            "Epoch 34/125\n",
            "64/64 [==============================] - 3s 50ms/step - loss: 1.1440 - accuracy: 0.5939 - val_loss: 1.0442 - val_accuracy: 0.6356\n",
            "Epoch 35/125\n",
            "64/64 [==============================] - 3s 50ms/step - loss: 1.1386 - accuracy: 0.5990 - val_loss: 1.0577 - val_accuracy: 0.6296\n",
            "Epoch 36/125\n",
            "64/64 [==============================] - 3s 50ms/step - loss: 1.1149 - accuracy: 0.6044 - val_loss: 1.0272 - val_accuracy: 0.6402\n",
            "Epoch 37/125\n",
            "64/64 [==============================] - 3s 50ms/step - loss: 1.1063 - accuracy: 0.6118 - val_loss: 1.0111 - val_accuracy: 0.6450\n",
            "Epoch 38/125\n",
            "64/64 [==============================] - 3s 50ms/step - loss: 1.1049 - accuracy: 0.6063 - val_loss: 0.9958 - val_accuracy: 0.6540\n",
            "Epoch 39/125\n",
            "64/64 [==============================] - 3s 50ms/step - loss: 1.0721 - accuracy: 0.6182 - val_loss: 0.9862 - val_accuracy: 0.6560\n",
            "Epoch 40/125\n",
            "64/64 [==============================] - 3s 50ms/step - loss: 1.0835 - accuracy: 0.6184 - val_loss: 0.9770 - val_accuracy: 0.6602\n",
            "Epoch 41/125\n",
            "64/64 [==============================] - 3s 50ms/step - loss: 1.0630 - accuracy: 0.6251 - val_loss: 0.9713 - val_accuracy: 0.6622\n",
            "Epoch 42/125\n",
            "64/64 [==============================] - 3s 50ms/step - loss: 1.0609 - accuracy: 0.6273 - val_loss: 0.9695 - val_accuracy: 0.6636\n",
            "Epoch 43/125\n",
            "64/64 [==============================] - 3s 50ms/step - loss: 1.0545 - accuracy: 0.6273 - val_loss: 0.9522 - val_accuracy: 0.6666\n",
            "Epoch 44/125\n",
            "64/64 [==============================] - 3s 50ms/step - loss: 1.0513 - accuracy: 0.6299 - val_loss: 0.9483 - val_accuracy: 0.6726\n",
            "Epoch 45/125\n",
            "64/64 [==============================] - 3s 50ms/step - loss: 1.0327 - accuracy: 0.6347 - val_loss: 0.9385 - val_accuracy: 0.6734\n",
            "Epoch 46/125\n",
            "64/64 [==============================] - 3s 50ms/step - loss: 1.0255 - accuracy: 0.6373 - val_loss: 0.9364 - val_accuracy: 0.6742\n",
            "Epoch 47/125\n",
            "64/64 [==============================] - 3s 51ms/step - loss: 1.0297 - accuracy: 0.6386 - val_loss: 0.9256 - val_accuracy: 0.6770\n",
            "Epoch 48/125\n",
            "64/64 [==============================] - 3s 50ms/step - loss: 1.0001 - accuracy: 0.6463 - val_loss: 0.9176 - val_accuracy: 0.6772\n",
            "Epoch 49/125\n",
            "64/64 [==============================] - 3s 50ms/step - loss: 1.0064 - accuracy: 0.6470 - val_loss: 0.9150 - val_accuracy: 0.6838\n",
            "Epoch 50/125\n",
            "64/64 [==============================] - 3s 51ms/step - loss: 1.0037 - accuracy: 0.6482 - val_loss: 0.9128 - val_accuracy: 0.6810\n",
            "Epoch 51/125\n",
            "64/64 [==============================] - 3s 50ms/step - loss: 0.9805 - accuracy: 0.6532 - val_loss: 0.9027 - val_accuracy: 0.6834\n",
            "Epoch 52/125\n",
            "64/64 [==============================] - 3s 50ms/step - loss: 0.9665 - accuracy: 0.6579 - val_loss: 0.8996 - val_accuracy: 0.6866\n",
            "Epoch 53/125\n",
            "64/64 [==============================] - 3s 50ms/step - loss: 0.9672 - accuracy: 0.6592 - val_loss: 0.8818 - val_accuracy: 0.6936\n",
            "Epoch 54/125\n",
            "64/64 [==============================] - 3s 51ms/step - loss: 0.9496 - accuracy: 0.6668 - val_loss: 0.8874 - val_accuracy: 0.6866\n",
            "Epoch 55/125\n",
            "64/64 [==============================] - 3s 50ms/step - loss: 0.9542 - accuracy: 0.6647 - val_loss: 0.8996 - val_accuracy: 0.6884\n",
            "Epoch 56/125\n",
            "64/64 [==============================] - 3s 50ms/step - loss: 0.9574 - accuracy: 0.6686 - val_loss: 0.8874 - val_accuracy: 0.6944\n",
            "Epoch 57/125\n",
            "64/64 [==============================] - 3s 50ms/step - loss: 0.9512 - accuracy: 0.6653 - val_loss: 0.8807 - val_accuracy: 0.6936\n",
            "Epoch 58/125\n",
            "64/64 [==============================] - 3s 50ms/step - loss: 0.9561 - accuracy: 0.6606 - val_loss: 0.8647 - val_accuracy: 0.6986\n",
            "Epoch 59/125\n",
            "64/64 [==============================] - 3s 50ms/step - loss: 0.9374 - accuracy: 0.6695 - val_loss: 0.8709 - val_accuracy: 0.6928\n",
            "Epoch 60/125\n",
            "64/64 [==============================] - 3s 50ms/step - loss: 0.9233 - accuracy: 0.6782 - val_loss: 0.8630 - val_accuracy: 0.7044\n",
            "Epoch 61/125\n",
            "64/64 [==============================] - 3s 50ms/step - loss: 0.9124 - accuracy: 0.6789 - val_loss: 0.8452 - val_accuracy: 0.7062\n",
            "Epoch 62/125\n",
            "64/64 [==============================] - 3s 50ms/step - loss: 0.9075 - accuracy: 0.6782 - val_loss: 0.8346 - val_accuracy: 0.7132\n",
            "Epoch 63/125\n",
            "64/64 [==============================] - 3s 51ms/step - loss: 0.8870 - accuracy: 0.6898 - val_loss: 0.8279 - val_accuracy: 0.7112\n",
            "Epoch 64/125\n",
            "64/64 [==============================] - 3s 51ms/step - loss: 0.9021 - accuracy: 0.6817 - val_loss: 0.8258 - val_accuracy: 0.7108\n",
            "Epoch 65/125\n",
            "64/64 [==============================] - 3s 51ms/step - loss: 0.8937 - accuracy: 0.6873 - val_loss: 0.8239 - val_accuracy: 0.7126\n",
            "Epoch 66/125\n",
            "64/64 [==============================] - 3s 51ms/step - loss: 0.8735 - accuracy: 0.6957 - val_loss: 0.8248 - val_accuracy: 0.7204\n",
            "Epoch 67/125\n",
            "64/64 [==============================] - 3s 51ms/step - loss: 0.8708 - accuracy: 0.6951 - val_loss: 0.8132 - val_accuracy: 0.7158\n",
            "Epoch 68/125\n",
            "64/64 [==============================] - 3s 51ms/step - loss: 0.8638 - accuracy: 0.6935 - val_loss: 0.8000 - val_accuracy: 0.7212\n",
            "Epoch 69/125\n",
            "64/64 [==============================] - 3s 51ms/step - loss: 0.8668 - accuracy: 0.6982 - val_loss: 0.8165 - val_accuracy: 0.7156\n",
            "Epoch 70/125\n",
            "64/64 [==============================] - 3s 51ms/step - loss: 0.8517 - accuracy: 0.7021 - val_loss: 0.8078 - val_accuracy: 0.7196\n",
            "Epoch 71/125\n",
            "64/64 [==============================] - 3s 51ms/step - loss: 0.8542 - accuracy: 0.7031 - val_loss: 0.8035 - val_accuracy: 0.7242\n",
            "Epoch 72/125\n",
            "64/64 [==============================] - 3s 51ms/step - loss: 0.8393 - accuracy: 0.7041 - val_loss: 0.7941 - val_accuracy: 0.7260\n",
            "Epoch 73/125\n",
            "64/64 [==============================] - 3s 50ms/step - loss: 0.8366 - accuracy: 0.7040 - val_loss: 0.7861 - val_accuracy: 0.7254\n",
            "Epoch 74/125\n",
            "64/64 [==============================] - 3s 51ms/step - loss: 0.8369 - accuracy: 0.7085 - val_loss: 0.7863 - val_accuracy: 0.7276\n",
            "Epoch 75/125\n",
            "64/64 [==============================] - 3s 50ms/step - loss: 0.8177 - accuracy: 0.7157 - val_loss: 0.7889 - val_accuracy: 0.7240\n",
            "Epoch 76/125\n",
            "64/64 [==============================] - 3s 51ms/step - loss: 0.8289 - accuracy: 0.7118 - val_loss: 0.7751 - val_accuracy: 0.7324\n",
            "Epoch 77/125\n",
            "64/64 [==============================] - 3s 51ms/step - loss: 0.8083 - accuracy: 0.7131 - val_loss: 0.7689 - val_accuracy: 0.7332\n",
            "Epoch 78/125\n",
            "64/64 [==============================] - 3s 51ms/step - loss: 0.8027 - accuracy: 0.7195 - val_loss: 0.7674 - val_accuracy: 0.7348\n",
            "Epoch 79/125\n",
            "64/64 [==============================] - 3s 51ms/step - loss: 0.8057 - accuracy: 0.7168 - val_loss: 0.7611 - val_accuracy: 0.7380\n",
            "Epoch 80/125\n",
            "64/64 [==============================] - 3s 50ms/step - loss: 0.8040 - accuracy: 0.7182 - val_loss: 0.7706 - val_accuracy: 0.7300\n",
            "Epoch 81/125\n",
            "64/64 [==============================] - 3s 51ms/step - loss: 0.7877 - accuracy: 0.7220 - val_loss: 0.7654 - val_accuracy: 0.7342\n",
            "Epoch 82/125\n",
            "64/64 [==============================] - 3s 52ms/step - loss: 0.7810 - accuracy: 0.7304 - val_loss: 0.7660 - val_accuracy: 0.7330\n",
            "Epoch 83/125\n",
            "64/64 [==============================] - 3s 51ms/step - loss: 0.8002 - accuracy: 0.7195 - val_loss: 0.7473 - val_accuracy: 0.7412\n",
            "Epoch 84/125\n",
            "64/64 [==============================] - 3s 52ms/step - loss: 0.7777 - accuracy: 0.7314 - val_loss: 0.7575 - val_accuracy: 0.7378\n",
            "Epoch 85/125\n",
            "64/64 [==============================] - 3s 52ms/step - loss: 0.7608 - accuracy: 0.7349 - val_loss: 0.7430 - val_accuracy: 0.7422\n",
            "Epoch 86/125\n",
            "64/64 [==============================] - 3s 52ms/step - loss: 0.7678 - accuracy: 0.7306 - val_loss: 0.7422 - val_accuracy: 0.7416\n",
            "Epoch 87/125\n",
            "64/64 [==============================] - 3s 52ms/step - loss: 0.7529 - accuracy: 0.7375 - val_loss: 0.7359 - val_accuracy: 0.7430\n",
            "Epoch 88/125\n",
            "64/64 [==============================] - 3s 52ms/step - loss: 0.7561 - accuracy: 0.7332 - val_loss: 0.7437 - val_accuracy: 0.7394\n",
            "Epoch 89/125\n",
            "64/64 [==============================] - 3s 52ms/step - loss: 0.7491 - accuracy: 0.7362 - val_loss: 0.7343 - val_accuracy: 0.7460\n",
            "Epoch 90/125\n",
            "64/64 [==============================] - 3s 53ms/step - loss: 0.7418 - accuracy: 0.7358 - val_loss: 0.7239 - val_accuracy: 0.7478\n",
            "Epoch 91/125\n",
            "64/64 [==============================] - 3s 52ms/step - loss: 0.7288 - accuracy: 0.7440 - val_loss: 0.7308 - val_accuracy: 0.7534\n",
            "Epoch 92/125\n",
            "64/64 [==============================] - 3s 52ms/step - loss: 0.7377 - accuracy: 0.7422 - val_loss: 0.7244 - val_accuracy: 0.7462\n",
            "Epoch 93/125\n",
            "64/64 [==============================] - 3s 52ms/step - loss: 0.7281 - accuracy: 0.7482 - val_loss: 0.7245 - val_accuracy: 0.7478\n",
            "Epoch 94/125\n",
            "64/64 [==============================] - 3s 52ms/step - loss: 0.7250 - accuracy: 0.7489 - val_loss: 0.7233 - val_accuracy: 0.7488\n",
            "Epoch 95/125\n",
            "64/64 [==============================] - 3s 52ms/step - loss: 0.7146 - accuracy: 0.7530 - val_loss: 0.7114 - val_accuracy: 0.7510\n",
            "Epoch 96/125\n",
            "64/64 [==============================] - 3s 52ms/step - loss: 0.7040 - accuracy: 0.7549 - val_loss: 0.7435 - val_accuracy: 0.7422\n",
            "Epoch 97/125\n",
            "64/64 [==============================] - 3s 51ms/step - loss: 0.7119 - accuracy: 0.7508 - val_loss: 0.7088 - val_accuracy: 0.7520\n",
            "Epoch 98/125\n",
            "64/64 [==============================] - 3s 51ms/step - loss: 0.7207 - accuracy: 0.7470 - val_loss: 0.7085 - val_accuracy: 0.7538\n",
            "Epoch 99/125\n",
            "64/64 [==============================] - 3s 51ms/step - loss: 0.7037 - accuracy: 0.7507 - val_loss: 0.6970 - val_accuracy: 0.7602\n",
            "Epoch 100/125\n",
            "64/64 [==============================] - 3s 51ms/step - loss: 0.6801 - accuracy: 0.7654 - val_loss: 0.7007 - val_accuracy: 0.7568\n",
            "Epoch 101/125\n",
            "64/64 [==============================] - 3s 51ms/step - loss: 0.6858 - accuracy: 0.7602 - val_loss: 0.6945 - val_accuracy: 0.7614\n",
            "Epoch 102/125\n",
            "64/64 [==============================] - 3s 51ms/step - loss: 0.6934 - accuracy: 0.7578 - val_loss: 0.6934 - val_accuracy: 0.7616\n",
            "Epoch 103/125\n",
            "64/64 [==============================] - 3s 51ms/step - loss: 0.6739 - accuracy: 0.7660 - val_loss: 0.6959 - val_accuracy: 0.7656\n",
            "Epoch 104/125\n",
            "64/64 [==============================] - 3s 51ms/step - loss: 0.6954 - accuracy: 0.7575 - val_loss: 0.6929 - val_accuracy: 0.7610\n",
            "Epoch 105/125\n",
            "64/64 [==============================] - 3s 51ms/step - loss: 0.6612 - accuracy: 0.7675 - val_loss: 0.7036 - val_accuracy: 0.7612\n",
            "Epoch 106/125\n",
            "64/64 [==============================] - 3s 52ms/step - loss: 0.6704 - accuracy: 0.7643 - val_loss: 0.6819 - val_accuracy: 0.7702\n",
            "Epoch 107/125\n",
            "64/64 [==============================] - 3s 52ms/step - loss: 0.6438 - accuracy: 0.7752 - val_loss: 0.6857 - val_accuracy: 0.7650\n",
            "Epoch 108/125\n",
            "64/64 [==============================] - 3s 52ms/step - loss: 0.6578 - accuracy: 0.7706 - val_loss: 0.6857 - val_accuracy: 0.7648\n",
            "Epoch 109/125\n",
            "64/64 [==============================] - 3s 51ms/step - loss: 0.6411 - accuracy: 0.7742 - val_loss: 0.6786 - val_accuracy: 0.7658\n",
            "Epoch 110/125\n",
            "64/64 [==============================] - 3s 51ms/step - loss: 0.6424 - accuracy: 0.7736 - val_loss: 0.6736 - val_accuracy: 0.7678\n",
            "Epoch 111/125\n",
            "64/64 [==============================] - 3s 51ms/step - loss: 0.6423 - accuracy: 0.7750 - val_loss: 0.6759 - val_accuracy: 0.7702\n",
            "Epoch 112/125\n",
            "64/64 [==============================] - 3s 52ms/step - loss: 0.6438 - accuracy: 0.7715 - val_loss: 0.6811 - val_accuracy: 0.7638\n",
            "Epoch 113/125\n",
            "64/64 [==============================] - 3s 51ms/step - loss: 0.6456 - accuracy: 0.7761 - val_loss: 0.6756 - val_accuracy: 0.7708\n",
            "Epoch 114/125\n",
            "64/64 [==============================] - 3s 52ms/step - loss: 0.6253 - accuracy: 0.7832 - val_loss: 0.6677 - val_accuracy: 0.7688\n",
            "Epoch 115/125\n",
            "64/64 [==============================] - 3s 51ms/step - loss: 0.6230 - accuracy: 0.7822 - val_loss: 0.6816 - val_accuracy: 0.7668\n",
            "Epoch 116/125\n",
            "64/64 [==============================] - 3s 52ms/step - loss: 0.6304 - accuracy: 0.7797 - val_loss: 0.6632 - val_accuracy: 0.7746\n",
            "Epoch 117/125\n",
            "64/64 [==============================] - 3s 51ms/step - loss: 0.6210 - accuracy: 0.7824 - val_loss: 0.6661 - val_accuracy: 0.7736\n",
            "Epoch 118/125\n",
            "64/64 [==============================] - 3s 51ms/step - loss: 0.6148 - accuracy: 0.7842 - val_loss: 0.6646 - val_accuracy: 0.7710\n",
            "Epoch 119/125\n",
            "64/64 [==============================] - 3s 51ms/step - loss: 0.6159 - accuracy: 0.7838 - val_loss: 0.6623 - val_accuracy: 0.7742\n",
            "Epoch 120/125\n",
            "64/64 [==============================] - 3s 51ms/step - loss: 0.6164 - accuracy: 0.7830 - val_loss: 0.6657 - val_accuracy: 0.7708\n",
            "Epoch 121/125\n",
            "64/64 [==============================] - 3s 51ms/step - loss: 0.6014 - accuracy: 0.7896 - val_loss: 0.6523 - val_accuracy: 0.7772\n",
            "Epoch 122/125\n",
            "64/64 [==============================] - 3s 51ms/step - loss: 0.5898 - accuracy: 0.7910 - val_loss: 0.6558 - val_accuracy: 0.7742\n",
            "Epoch 123/125\n",
            "64/64 [==============================] - 3s 52ms/step - loss: 0.5951 - accuracy: 0.7920 - val_loss: 0.6579 - val_accuracy: 0.7742\n",
            "Epoch 124/125\n",
            "64/64 [==============================] - 3s 51ms/step - loss: 0.5854 - accuracy: 0.7927 - val_loss: 0.6607 - val_accuracy: 0.7748\n",
            "Epoch 125/125\n",
            "64/64 [==============================] - 3s 52ms/step - loss: 0.5854 - accuracy: 0.7927 - val_loss: 0.6449 - val_accuracy: 0.7814\n",
            "Time taken: 0 hours 7 minutes and 35.6 seconds.\n"
          ],
          "name": "stdout"
        }
      ]
    },
    {
      "cell_type": "markdown",
      "metadata": {
        "id": "d84abb07"
      },
      "source": [
        "# Performance Visualization"
      ],
      "id": "d84abb07"
    },
    {
      "cell_type": "code",
      "metadata": {
        "colab": {
          "base_uri": "https://localhost:8080/",
          "height": 621
        },
        "id": "24415eea",
        "outputId": "704834fa-a796-4f95-cc12-2d82d2c46f75"
      },
      "source": [
        "\n",
        "plt.figure(figsize=(20, 10))\n",
        "plt.subplot(1, 2, 1)\n",
        "plt.title(\"CNN Training and Validation Accuracy\")\n",
        "plt.plot(result.history[\"accuracy\"], label='Training Accuracy')\n",
        "plt.plot(result.history['val_accuracy'], label='Validation Accuracy')\n",
        "plt.legend(loc='lower right')\n",
        "plt.ylabel('accuracy')\n",
        "plt.xlabel('epoch')\n",
        "plt.subplot(1, 2, 2)\n",
        "plt.plot( result.history[\"loss\"], label='Training Loss')\n",
        "plt.plot( result.history[\"val_loss\"], label='Validation Loss')\n",
        "plt.legend(loc='upper right')\n",
        "plt.title('CNN Training and Validation Loss')\n",
        "plt.ylabel('loss')\n",
        "plt.xlabel('epoch')\n",
        "plt.show()"
      ],
      "id": "24415eea",
      "execution_count": 10,
      "outputs": [
        {
          "output_type": "display_data",
          "data": {
            "image/png": "[encoded data removed]",
            "text/plain": [
              "<Figure size 1440x720 with 2 Axes>"
            ]
          },
          "metadata": {
            "tags": [],
            "needs_background": "light"
          }
        }
      ]
    },
    {
      "cell_type": "code",
      "metadata": {
        "colab": {
          "base_uri": "https://localhost:8080/",
          "height": 0
        },
        "id": "c3db4b5c",
        "outputId": "f769d7a0-ab3b-4c76-e52c-fa635fb168c7"
      },
      "source": [
        "# check performance on test\n",
        "scores = model.evaluate(xtest, ytest, verbose=1) \n",
        "print('Test loss:', scores[0])\n",
        "print('Test accuracy:', scores[1])"
      ],
      "id": "c3db4b5c",
      "execution_count": 11,
      "outputs": [
        {
          "output_type": "stream",
          "text": [
            "313/313 [==============================] - 1s 4ms/step - loss: 0.6705 - accuracy: 0.7687\n",
            "Test loss: 0.6705240607261658\n",
            "Test accuracy: 0.7687000036239624\n"
          ],
          "name": "stdout"
        }
      ]
    },
    {
      "cell_type": "code",
      "metadata": {
        "id": "32667f79"
      },
      "source": [
        ""
      ],
      "id": "32667f79",
      "execution_count": 11,
      "outputs": []
    }
  ]
}